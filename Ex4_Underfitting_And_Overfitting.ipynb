{
 "cells": [
  {
   "cell_type": "markdown",
   "id": "6c19d1a3",
   "metadata": {
    "papermill": {
     "duration": 0.005071,
     "end_time": "2023-02-25T12:11:53.590156",
     "exception": false,
     "start_time": "2023-02-25T12:11:53.585085",
     "status": "completed"
    },
    "tags": []
   },
   "source": [
    "**This notebook is an exercise in the [Introduction to Machine Learning](https://www.kaggle.com/learn/intro-to-machine-learning) course.  You can reference the tutorial at [this link](https://www.kaggle.com/dansbecker/underfitting-and-overfitting).**\n",
    "\n",
    "---\n"
   ]
  },
  {
   "cell_type": "markdown",
   "id": "d20b1847",
   "metadata": {
    "papermill": {
     "duration": 0.003719,
     "end_time": "2023-02-25T12:11:53.598891",
     "exception": false,
     "start_time": "2023-02-25T12:11:53.595172",
     "status": "completed"
    },
    "tags": []
   },
   "source": [
    "## Recap\n",
    "You've built your first model, and now it's time to optimize the size of the tree to make better predictions. Run this cell to set up your coding environment where the previous step left off."
   ]
  },
  {
   "cell_type": "code",
   "execution_count": 1,
   "id": "a855207c",
   "metadata": {
    "execution": {
     "iopub.execute_input": "2023-02-25T12:11:53.609611Z",
     "iopub.status.busy": "2023-02-25T12:11:53.608972Z",
     "iopub.status.idle": "2023-02-25T12:11:55.282991Z",
     "shell.execute_reply": "2023-02-25T12:11:55.281505Z"
    },
    "papermill": {
     "duration": 1.683833,
     "end_time": "2023-02-25T12:11:55.286782",
     "exception": false,
     "start_time": "2023-02-25T12:11:53.602949",
     "status": "completed"
    },
    "tags": []
   },
   "outputs": [
    {
     "name": "stdout",
     "output_type": "stream",
     "text": [
      "Validation MAE: 29,653\n",
      "\n",
      "Setup complete\n"
     ]
    }
   ],
   "source": [
    "# Code you have previously used to load data\n",
    "import pandas as pd\n",
    "from sklearn.metrics import mean_absolute_error\n",
    "from sklearn.model_selection import train_test_split\n",
    "from sklearn.tree import DecisionTreeRegressor\n",
    "\n",
    "\n",
    "# Path of the file to read\n",
    "iowa_file_path = '../input/home-data-for-ml-course/train.csv'\n",
    "\n",
    "home_data = pd.read_csv(iowa_file_path)\n",
    "# Create target object and call it y\n",
    "y = home_data.SalePrice\n",
    "# Create X\n",
    "features = ['LotArea', 'YearBuilt', '1stFlrSF', '2ndFlrSF', 'FullBath', 'BedroomAbvGr', 'TotRmsAbvGrd']\n",
    "X = home_data[features]\n",
    "\n",
    "# Split into validation and training data\n",
    "train_X, val_X, train_y, val_y = train_test_split(X, y, random_state=1)\n",
    "\n",
    "# Specify Model\n",
    "iowa_model = DecisionTreeRegressor(random_state=1)\n",
    "# Fit Model\n",
    "iowa_model.fit(train_X, train_y)\n",
    "\n",
    "# Make validation predictions and calculate mean absolute error\n",
    "val_predictions = iowa_model.predict(val_X)\n",
    "val_mae = mean_absolute_error(val_predictions, val_y)\n",
    "print(\"Validation MAE: {:,.0f}\".format(val_mae))\n",
    "\n",
    "# Set up code checking\n",
    "from learntools.core import binder\n",
    "binder.bind(globals())\n",
    "from learntools.machine_learning.ex5 import *\n",
    "print(\"\\nSetup complete\")"
   ]
  },
  {
   "cell_type": "markdown",
   "id": "9f79e4e7",
   "metadata": {
    "papermill": {
     "duration": 0.003708,
     "end_time": "2023-02-25T12:11:55.295313",
     "exception": false,
     "start_time": "2023-02-25T12:11:55.291605",
     "status": "completed"
    },
    "tags": []
   },
   "source": [
    "# Exercises\n",
    "You could write the function `get_mae` yourself. For now, we'll supply it. This is the same function you read about in the previous lesson. Just run the cell below."
   ]
  },
  {
   "cell_type": "code",
   "execution_count": 2,
   "id": "78c60564",
   "metadata": {
    "execution": {
     "iopub.execute_input": "2023-02-25T12:11:55.305692Z",
     "iopub.status.busy": "2023-02-25T12:11:55.305195Z",
     "iopub.status.idle": "2023-02-25T12:11:55.312516Z",
     "shell.execute_reply": "2023-02-25T12:11:55.311194Z"
    },
    "papermill": {
     "duration": 0.016338,
     "end_time": "2023-02-25T12:11:55.315725",
     "exception": false,
     "start_time": "2023-02-25T12:11:55.299387",
     "status": "completed"
    },
    "tags": []
   },
   "outputs": [],
   "source": [
    "def get_mae(max_leaf_nodes, train_X, val_X, train_y, val_y):\n",
    "    model = DecisionTreeRegressor(max_leaf_nodes=max_leaf_nodes, random_state=0)\n",
    "    model.fit(train_X, train_y)\n",
    "    preds_val = model.predict(val_X)\n",
    "    mae = mean_absolute_error(val_y, preds_val)\n",
    "    return(mae)"
   ]
  },
  {
   "cell_type": "markdown",
   "id": "0433e447",
   "metadata": {
    "papermill": {
     "duration": 0.003762,
     "end_time": "2023-02-25T12:11:55.323544",
     "exception": false,
     "start_time": "2023-02-25T12:11:55.319782",
     "status": "completed"
    },
    "tags": []
   },
   "source": [
    "## Step 1: Compare Different Tree Sizes\n",
    "Write a loop that tries the following values for *max_leaf_nodes* from a set of possible values.\n",
    "\n",
    "Call the *get_mae* function on each value of max_leaf_nodes. Store the output in some way that allows you to select the value of `max_leaf_nodes` that gives the most accurate model on your data."
   ]
  },
  {
   "cell_type": "code",
   "execution_count": 3,
   "id": "117992b1",
   "metadata": {
    "execution": {
     "iopub.execute_input": "2023-02-25T12:11:55.334140Z",
     "iopub.status.busy": "2023-02-25T12:11:55.333229Z",
     "iopub.status.idle": "2023-02-25T12:11:55.390778Z",
     "shell.execute_reply": "2023-02-25T12:11:55.389149Z"
    },
    "papermill": {
     "duration": 0.06628,
     "end_time": "2023-02-25T12:11:55.393790",
     "exception": false,
     "start_time": "2023-02-25T12:11:55.327510",
     "status": "completed"
    },
    "tags": []
   },
   "outputs": [
    {
     "name": "stdout",
     "output_type": "stream",
     "text": [
      "Max leaf nodes: 5  \t\t Mean Absolute Error:  35044\n",
      "Max leaf nodes: 25  \t\t Mean Absolute Error:  29016\n",
      "Max leaf nodes: 50  \t\t Mean Absolute Error:  27405\n",
      "Max leaf nodes: 100  \t\t Mean Absolute Error:  27282\n",
      "Max leaf nodes: 250  \t\t Mean Absolute Error:  27893\n",
      "Max leaf nodes: 500  \t\t Mean Absolute Error:  29454\n"
     ]
    },
    {
     "data": {
      "application/javascript": [
       "parent.postMessage({\"jupyterEvent\": \"custom.exercise_interaction\", \"data\": {\"outcomeType\": 1, \"valueTowardsCompletion\": 0.5, \"interactionType\": 1, \"questionType\": 1, \"questionId\": \"1_BestTreeSize\", \"learnToolsVersion\": \"0.3.4\", \"failureMessage\": \"\", \"exceptionClass\": \"\", \"trace\": \"\"}}, \"*\")"
      ],
      "text/plain": [
       "<IPython.core.display.Javascript object>"
      ]
     },
     "metadata": {},
     "output_type": "display_data"
    },
    {
     "data": {
      "text/markdown": [
       "<span style=\"color:#33cc33\">Correct</span>"
      ],
      "text/plain": [
       "Correct"
      ]
     },
     "metadata": {},
     "output_type": "display_data"
    }
   ],
   "source": [
    "candidate_max_leaf_nodes = [5, 25, 50, 100, 250, 500]\n",
    "# Write loop to find the ideal tree size from candidate_max_leaf_nodes\n",
    "for max_leaf_nodes in candidate_max_leaf_nodes:\n",
    "    mae = get_mae(max_leaf_nodes, train_X, val_X, train_y, val_y)\n",
    "    print(\"Max leaf nodes: %d  \\t\\t Mean Absolute Error:  %d\" %(max_leaf_nodes, mae))\n",
    "    \n",
    "# Store the best value of max_leaf_nodes (it will be either 5, 25, 50, 100, 250 or 500)\n",
    "best_tree_size = 100\n",
    "\n",
    "# Check your answer\n",
    "step_1.check()"
   ]
  },
  {
   "cell_type": "code",
   "execution_count": 4,
   "id": "c376c1c5",
   "metadata": {
    "execution": {
     "iopub.execute_input": "2023-02-25T12:11:55.405175Z",
     "iopub.status.busy": "2023-02-25T12:11:55.404207Z",
     "iopub.status.idle": "2023-02-25T12:11:55.409679Z",
     "shell.execute_reply": "2023-02-25T12:11:55.408467Z"
    },
    "papermill": {
     "duration": 0.014043,
     "end_time": "2023-02-25T12:11:55.412376",
     "exception": false,
     "start_time": "2023-02-25T12:11:55.398333",
     "status": "completed"
    },
    "tags": []
   },
   "outputs": [],
   "source": [
    "# The lines below will show you a hint or the solution.\n",
    "# step_1.hint() \n",
    "# step_1.solution()"
   ]
  },
  {
   "cell_type": "markdown",
   "id": "f4961bb4",
   "metadata": {
    "papermill": {
     "duration": 0.004005,
     "end_time": "2023-02-25T12:11:55.420849",
     "exception": false,
     "start_time": "2023-02-25T12:11:55.416844",
     "status": "completed"
    },
    "tags": []
   },
   "source": [
    "## Step 2: Fit Model Using All Data\n",
    "You know the best tree size. If you were going to deploy this model in practice, you would make it even more accurate by using all of the data and keeping that tree size.  That is, you don't need to hold out the validation data now that you've made all your modeling decisions."
   ]
  },
  {
   "cell_type": "code",
   "execution_count": 5,
   "id": "d1f762cb",
   "metadata": {
    "execution": {
     "iopub.execute_input": "2023-02-25T12:11:55.431339Z",
     "iopub.status.busy": "2023-02-25T12:11:55.430876Z",
     "iopub.status.idle": "2023-02-25T12:11:55.450893Z",
     "shell.execute_reply": "2023-02-25T12:11:55.449658Z"
    },
    "papermill": {
     "duration": 0.028422,
     "end_time": "2023-02-25T12:11:55.453368",
     "exception": false,
     "start_time": "2023-02-25T12:11:55.424946",
     "status": "completed"
    },
    "tags": []
   },
   "outputs": [
    {
     "data": {
      "application/javascript": [
       "parent.postMessage({\"jupyterEvent\": \"custom.exercise_interaction\", \"data\": {\"outcomeType\": 1, \"valueTowardsCompletion\": 0.5, \"interactionType\": 1, \"questionType\": 2, \"questionId\": \"2_FitModelWithAllData\", \"learnToolsVersion\": \"0.3.4\", \"failureMessage\": \"\", \"exceptionClass\": \"\", \"trace\": \"\"}}, \"*\")"
      ],
      "text/plain": [
       "<IPython.core.display.Javascript object>"
      ]
     },
     "metadata": {},
     "output_type": "display_data"
    },
    {
     "data": {
      "text/markdown": [
       "<span style=\"color:#33cc33\">Correct</span>"
      ],
      "text/plain": [
       "Correct"
      ]
     },
     "metadata": {},
     "output_type": "display_data"
    }
   ],
   "source": [
    "# Fill in argument to make optimal size and uncomment\n",
    "final_model = DecisionTreeRegressor(max_leaf_nodes = best_tree_size, random_state = 1)\n",
    "\n",
    "# fit the final model and uncomment the next two lines\n",
    "final_model.fit(X, y)\n",
    "\n",
    "# Check your answer\n",
    "step_2.check()"
   ]
  },
  {
   "cell_type": "code",
   "execution_count": 6,
   "id": "43002458",
   "metadata": {
    "execution": {
     "iopub.execute_input": "2023-02-25T12:11:55.464488Z",
     "iopub.status.busy": "2023-02-25T12:11:55.463971Z",
     "iopub.status.idle": "2023-02-25T12:11:55.469462Z",
     "shell.execute_reply": "2023-02-25T12:11:55.467914Z"
    },
    "papermill": {
     "duration": 0.014304,
     "end_time": "2023-02-25T12:11:55.472129",
     "exception": false,
     "start_time": "2023-02-25T12:11:55.457825",
     "status": "completed"
    },
    "tags": []
   },
   "outputs": [],
   "source": [
    "# help(DecisionTreeRegressor)\n",
    "# step_2.hint()\n",
    "# step_2.solution()"
   ]
  },
  {
   "cell_type": "markdown",
   "id": "28819e76",
   "metadata": {
    "papermill": {
     "duration": 0.004234,
     "end_time": "2023-02-25T12:11:55.481041",
     "exception": false,
     "start_time": "2023-02-25T12:11:55.476807",
     "status": "completed"
    },
    "tags": []
   },
   "source": [
    "You've tuned this model and improved your results. But we are still using Decision Tree models, which are not very sophisticated by modern machine learning standards. In the next step you will learn to use Random Forests to improve your models even more.\n",
    "\n",
    "# Keep Going\n",
    "\n",
    "You are ready for **[Random Forests](https://www.kaggle.com/dansbecker/random-forests).**\n"
   ]
  },
  {
   "cell_type": "markdown",
   "id": "5ede0058",
   "metadata": {
    "papermill": {
     "duration": 0.004074,
     "end_time": "2023-02-25T12:11:55.489623",
     "exception": false,
     "start_time": "2023-02-25T12:11:55.485549",
     "status": "completed"
    },
    "tags": []
   },
   "source": [
    "---\n",
    "\n",
    "\n",
    "\n",
    "\n",
    "*Have questions or comments? Visit the [Learn Discussion forum](https://www.kaggle.com/learn-forum/161285) to chat with other Learners.*"
   ]
  }
 ],
 "metadata": {
  "kernelspec": {
   "display_name": "Python 3",
   "language": "python",
   "name": "python3"
  },
  "language_info": {
   "codemirror_mode": {
    "name": "ipython",
    "version": 3
   },
   "file_extension": ".py",
   "mimetype": "text/x-python",
   "name": "python",
   "nbconvert_exporter": "python",
   "pygments_lexer": "ipython3",
   "version": "3.7.12"
  },
  "papermill": {
   "default_parameters": {},
   "duration": 14.466612,
   "end_time": "2023-02-25T12:11:56.420089",
   "environment_variables": {},
   "exception": null,
   "input_path": "__notebook__.ipynb",
   "output_path": "__notebook__.ipynb",
   "parameters": {},
   "start_time": "2023-02-25T12:11:41.953477",
   "version": "2.4.0"
  }
 },
 "nbformat": 4,
 "nbformat_minor": 5
}
