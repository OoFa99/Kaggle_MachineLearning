{
 "cells": [
  {
   "cell_type": "markdown",
   "id": "3548a686",
   "metadata": {
    "papermill": {
     "duration": 0.006393,
     "end_time": "2023-02-25T11:24:00.456214",
     "exception": false,
     "start_time": "2023-02-25T11:24:00.449821",
     "status": "completed"
    },
    "tags": []
   },
   "source": [
    "**This notebook is an exercise in the [Introduction to Machine Learning](https://www.kaggle.com/learn/intro-to-machine-learning) course.  You can reference the tutorial at [this link](https://www.kaggle.com/dansbecker/model-validation).**\n",
    "\n",
    "---\n"
   ]
  },
  {
   "cell_type": "markdown",
   "id": "cfc37b38",
   "metadata": {
    "papermill": {
     "duration": 0.004377,
     "end_time": "2023-02-25T11:24:00.465429",
     "exception": false,
     "start_time": "2023-02-25T11:24:00.461052",
     "status": "completed"
    },
    "tags": []
   },
   "source": [
    "## Recap\n",
    "You've built a model. In this exercise you will test how good your model is.\n",
    "\n",
    "Run the cell below to set up your coding environment where the previous exercise left off."
   ]
  },
  {
   "cell_type": "code",
   "execution_count": 1,
   "id": "fd38cde5",
   "metadata": {
    "execution": {
     "iopub.execute_input": "2023-02-25T11:24:00.476810Z",
     "iopub.status.busy": "2023-02-25T11:24:00.476317Z",
     "iopub.status.idle": "2023-02-25T11:24:01.947715Z",
     "shell.execute_reply": "2023-02-25T11:24:01.946225Z"
    },
    "papermill": {
     "duration": 1.48081,
     "end_time": "2023-02-25T11:24:01.950796",
     "exception": false,
     "start_time": "2023-02-25T11:24:00.469986",
     "status": "completed"
    },
    "tags": []
   },
   "outputs": [
    {
     "name": "stdout",
     "output_type": "stream",
     "text": [
      "First in-sample predictions: [208500. 181500. 223500. 140000. 250000.]\n",
      "Actual target values for those homes: [208500, 181500, 223500, 140000, 250000]\n",
      "Setup Complete\n"
     ]
    }
   ],
   "source": [
    "# Code you have previously used to load data\n",
    "import pandas as pd\n",
    "from sklearn.tree import DecisionTreeRegressor\n",
    "\n",
    "# Path of the file to read\n",
    "iowa_file_path = '../input/home-data-for-ml-course/train.csv'\n",
    "\n",
    "home_data = pd.read_csv(iowa_file_path)\n",
    "y = home_data.SalePrice\n",
    "feature_columns = ['LotArea', 'YearBuilt', '1stFlrSF', '2ndFlrSF', 'FullBath', 'BedroomAbvGr', 'TotRmsAbvGrd']\n",
    "X = home_data[feature_columns]\n",
    "\n",
    "# Specify Model\n",
    "iowa_model = DecisionTreeRegressor()\n",
    "# Fit Model\n",
    "iowa_model.fit(X, y)\n",
    "\n",
    "print(\"First in-sample predictions:\", iowa_model.predict(X.head()))\n",
    "print(\"Actual target values for those homes:\", y.head().tolist())\n",
    "\n",
    "# Set up code checking\n",
    "from learntools.core import binder\n",
    "binder.bind(globals())\n",
    "from learntools.machine_learning.ex4 import *\n",
    "print(\"Setup Complete\")"
   ]
  },
  {
   "cell_type": "markdown",
   "id": "ec86df9c",
   "metadata": {
    "papermill": {
     "duration": 0.004478,
     "end_time": "2023-02-25T11:24:01.960036",
     "exception": false,
     "start_time": "2023-02-25T11:24:01.955558",
     "status": "completed"
    },
    "tags": []
   },
   "source": [
    "# Exercises\n",
    "\n",
    "## Step 1: Split Your Data\n",
    "Use the `train_test_split` function to split up your data.\n",
    "\n",
    "Give it the argument `random_state=1` so the `check` functions know what to expect when verifying your code.\n",
    "\n",
    "Recall, your features are loaded in the DataFrame **X** and your target is loaded in **y**.\n"
   ]
  },
  {
   "cell_type": "code",
   "execution_count": 2,
   "id": "91ef038f",
   "metadata": {
    "execution": {
     "iopub.execute_input": "2023-02-25T11:24:01.971335Z",
     "iopub.status.busy": "2023-02-25T11:24:01.970910Z",
     "iopub.status.idle": "2023-02-25T11:24:01.986734Z",
     "shell.execute_reply": "2023-02-25T11:24:01.985484Z"
    },
    "papermill": {
     "duration": 0.024568,
     "end_time": "2023-02-25T11:24:01.989218",
     "exception": false,
     "start_time": "2023-02-25T11:24:01.964650",
     "status": "completed"
    },
    "tags": []
   },
   "outputs": [
    {
     "data": {
      "application/javascript": [
       "parent.postMessage({\"jupyterEvent\": \"custom.exercise_interaction\", \"data\": {\"outcomeType\": 1, \"valueTowardsCompletion\": 0.25, \"interactionType\": 1, \"questionType\": 2, \"questionId\": \"1_SplitData\", \"learnToolsVersion\": \"0.3.4\", \"failureMessage\": \"\", \"exceptionClass\": \"\", \"trace\": \"\"}}, \"*\")"
      ],
      "text/plain": [
       "<IPython.core.display.Javascript object>"
      ]
     },
     "metadata": {},
     "output_type": "display_data"
    },
    {
     "data": {
      "text/markdown": [
       "<span style=\"color:#33cc33\">Correct</span>"
      ],
      "text/plain": [
       "Correct"
      ]
     },
     "metadata": {},
     "output_type": "display_data"
    }
   ],
   "source": [
    "# Import the train_test_split function and uncomment\n",
    "# from _ import _\n",
    "from sklearn.model_selection import train_test_split\n",
    "\n",
    "# fill in and uncomment\n",
    "# train_X, val_X, train_y, val_y = ____\n",
    "train_X, val_X, train_y, val_y = train_test_split(X, y, random_state = 1)\n",
    "# Check your answer\n",
    "step_1.check()"
   ]
  },
  {
   "cell_type": "code",
   "execution_count": 3,
   "id": "fb05e6c3",
   "metadata": {
    "execution": {
     "iopub.execute_input": "2023-02-25T11:24:02.001506Z",
     "iopub.status.busy": "2023-02-25T11:24:02.001105Z",
     "iopub.status.idle": "2023-02-25T11:24:02.005878Z",
     "shell.execute_reply": "2023-02-25T11:24:02.004487Z"
    },
    "papermill": {
     "duration": 0.013795,
     "end_time": "2023-02-25T11:24:02.008124",
     "exception": false,
     "start_time": "2023-02-25T11:24:01.994329",
     "status": "completed"
    },
    "tags": []
   },
   "outputs": [],
   "source": [
    "# The lines below will show you a hint or the solution.\n",
    "# step_1.hint() \n",
    "# step_1.solution()\n"
   ]
  },
  {
   "cell_type": "markdown",
   "id": "ebe1220f",
   "metadata": {
    "papermill": {
     "duration": 0.004657,
     "end_time": "2023-02-25T11:24:02.017938",
     "exception": false,
     "start_time": "2023-02-25T11:24:02.013281",
     "status": "completed"
    },
    "tags": []
   },
   "source": [
    "## Step 2: Specify and Fit the Model\n",
    "\n",
    "Create a `DecisionTreeRegressor` model and fit it to the relevant data.\n",
    "Set `random_state` to 1 again when creating the model."
   ]
  },
  {
   "cell_type": "code",
   "execution_count": 4,
   "id": "e6f59129",
   "metadata": {
    "execution": {
     "iopub.execute_input": "2023-02-25T11:24:02.030061Z",
     "iopub.status.busy": "2023-02-25T11:24:02.029583Z",
     "iopub.status.idle": "2023-02-25T11:24:02.059186Z",
     "shell.execute_reply": "2023-02-25T11:24:02.057789Z"
    },
    "papermill": {
     "duration": 0.039048,
     "end_time": "2023-02-25T11:24:02.061921",
     "exception": false,
     "start_time": "2023-02-25T11:24:02.022873",
     "status": "completed"
    },
    "tags": []
   },
   "outputs": [
    {
     "name": "stdout",
     "output_type": "stream",
     "text": [
      "[186500. 184000. 130000.  92000. 164500. 220000. 335000. 144152. 215000.\n",
      " 262000.]\n",
      "[186500. 184000. 130000.  92000. 164500. 220000. 335000. 144152. 215000.\n",
      " 262000.]\n"
     ]
    },
    {
     "data": {
      "application/javascript": [
       "parent.postMessage({\"jupyterEvent\": \"custom.exercise_interaction\", \"data\": {\"outcomeType\": 1, \"valueTowardsCompletion\": 0.25, \"interactionType\": 1, \"questionType\": 2, \"questionId\": \"2_FitModelWithTrain\", \"learnToolsVersion\": \"0.3.4\", \"failureMessage\": \"\", \"exceptionClass\": \"\", \"trace\": \"\"}}, \"*\")"
      ],
      "text/plain": [
       "<IPython.core.display.Javascript object>"
      ]
     },
     "metadata": {},
     "output_type": "display_data"
    },
    {
     "data": {
      "text/markdown": [
       "<span style=\"color:#33cc33\">Correct</span>"
      ],
      "text/plain": [
       "Correct"
      ]
     },
     "metadata": {},
     "output_type": "display_data"
    }
   ],
   "source": [
    "# You imported DecisionTreeRegressor in your last exercise\n",
    "# and that code has been copied to the setup code above. So, no need to\n",
    "# import it again\n",
    "\n",
    "# Specify the model\n",
    "iowa_model = DecisionTreeRegressor(random_state = 1)\n",
    "\n",
    "# Fit iowa_model with the training data.\n",
    "iowa_model.fit(train_X, train_y)\n",
    "\n",
    "# Check your answer\n",
    "step_2.check()"
   ]
  },
  {
   "cell_type": "code",
   "execution_count": 5,
   "id": "54d9e976",
   "metadata": {
    "execution": {
     "iopub.execute_input": "2023-02-25T11:24:02.075109Z",
     "iopub.status.busy": "2023-02-25T11:24:02.074330Z",
     "iopub.status.idle": "2023-02-25T11:24:02.083695Z",
     "shell.execute_reply": "2023-02-25T11:24:02.082488Z"
    },
    "papermill": {
     "duration": 0.01895,
     "end_time": "2023-02-25T11:24:02.086270",
     "exception": false,
     "start_time": "2023-02-25T11:24:02.067320",
     "status": "completed"
    },
    "tags": []
   },
   "outputs": [
    {
     "data": {
      "application/javascript": [
       "parent.postMessage({\"jupyterEvent\": \"custom.exercise_interaction\", \"data\": {\"interactionType\": 2, \"questionType\": 2, \"questionId\": \"2_FitModelWithTrain\", \"learnToolsVersion\": \"0.3.4\", \"valueTowardsCompletion\": 0.0, \"failureMessage\": \"\", \"exceptionClass\": \"\", \"trace\": \"\", \"outcomeType\": 4}}, \"*\")"
      ],
      "text/plain": [
       "<IPython.core.display.Javascript object>"
      ]
     },
     "metadata": {},
     "output_type": "display_data"
    },
    {
     "data": {
      "text/markdown": [
       "<span style=\"color:#3366cc\">Hint:</span> Remember, you fit with training data. You will test with validation data soon"
      ],
      "text/plain": [
       "Hint: Remember, you fit with training data. You will test with validation data soon"
      ]
     },
     "metadata": {},
     "output_type": "display_data"
    }
   ],
   "source": [
    "step_2.hint()\n",
    "# step_2.solution()"
   ]
  },
  {
   "cell_type": "markdown",
   "id": "b7626286",
   "metadata": {
    "papermill": {
     "duration": 0.00533,
     "end_time": "2023-02-25T11:24:02.097523",
     "exception": false,
     "start_time": "2023-02-25T11:24:02.092193",
     "status": "completed"
    },
    "tags": []
   },
   "source": [
    "## Step 3: Make Predictions with Validation data\n"
   ]
  },
  {
   "cell_type": "code",
   "execution_count": 6,
   "id": "016cb9de",
   "metadata": {
    "execution": {
     "iopub.execute_input": "2023-02-25T11:24:02.111047Z",
     "iopub.status.busy": "2023-02-25T11:24:02.110636Z",
     "iopub.status.idle": "2023-02-25T11:24:02.123849Z",
     "shell.execute_reply": "2023-02-25T11:24:02.122540Z"
    },
    "papermill": {
     "duration": 0.023372,
     "end_time": "2023-02-25T11:24:02.126365",
     "exception": false,
     "start_time": "2023-02-25T11:24:02.102993",
     "status": "completed"
    },
    "tags": []
   },
   "outputs": [
    {
     "data": {
      "application/javascript": [
       "parent.postMessage({\"jupyterEvent\": \"custom.exercise_interaction\", \"data\": {\"outcomeType\": 1, \"valueTowardsCompletion\": 0.25, \"interactionType\": 1, \"questionType\": 2, \"questionId\": \"3_ValPreds\", \"learnToolsVersion\": \"0.3.4\", \"failureMessage\": \"\", \"exceptionClass\": \"\", \"trace\": \"\"}}, \"*\")"
      ],
      "text/plain": [
       "<IPython.core.display.Javascript object>"
      ]
     },
     "metadata": {},
     "output_type": "display_data"
    },
    {
     "data": {
      "text/markdown": [
       "<span style=\"color:#33cc33\">Correct</span>"
      ],
      "text/plain": [
       "Correct"
      ]
     },
     "metadata": {},
     "output_type": "display_data"
    }
   ],
   "source": [
    "# Predict with all validation observations\n",
    "val_predictions = iowa_model.predict(val_X)\n",
    "\n",
    "# Check your answer\n",
    "step_3.check()"
   ]
  },
  {
   "cell_type": "code",
   "execution_count": 7,
   "id": "8548af5e",
   "metadata": {
    "execution": {
     "iopub.execute_input": "2023-02-25T11:24:02.140980Z",
     "iopub.status.busy": "2023-02-25T11:24:02.140529Z",
     "iopub.status.idle": "2023-02-25T11:24:02.145512Z",
     "shell.execute_reply": "2023-02-25T11:24:02.144151Z"
    },
    "papermill": {
     "duration": 0.015938,
     "end_time": "2023-02-25T11:24:02.148096",
     "exception": false,
     "start_time": "2023-02-25T11:24:02.132158",
     "status": "completed"
    },
    "tags": []
   },
   "outputs": [],
   "source": [
    "# step_3.hint()\n",
    "# step_3.solution()"
   ]
  },
  {
   "cell_type": "markdown",
   "id": "9b208111",
   "metadata": {
    "papermill": {
     "duration": 0.005597,
     "end_time": "2023-02-25T11:24:02.159931",
     "exception": false,
     "start_time": "2023-02-25T11:24:02.154334",
     "status": "completed"
    },
    "tags": []
   },
   "source": [
    "Inspect your predictions and actual values from validation data."
   ]
  },
  {
   "cell_type": "code",
   "execution_count": 8,
   "id": "9b3d9ee4",
   "metadata": {
    "execution": {
     "iopub.execute_input": "2023-02-25T11:24:02.173588Z",
     "iopub.status.busy": "2023-02-25T11:24:02.173164Z",
     "iopub.status.idle": "2023-02-25T11:24:02.180038Z",
     "shell.execute_reply": "2023-02-25T11:24:02.178725Z"
    },
    "papermill": {
     "duration": 0.017606,
     "end_time": "2023-02-25T11:24:02.183447",
     "exception": false,
     "start_time": "2023-02-25T11:24:02.165841",
     "status": "completed"
    },
    "tags": []
   },
   "outputs": [
    {
     "name": "stdout",
     "output_type": "stream",
     "text": [
      "258     231500\n",
      "267     179500\n",
      "288     122000\n",
      "649      84500\n",
      "1233    142000\n",
      "Name: SalePrice, dtype: int64\n"
     ]
    }
   ],
   "source": [
    "# print the top few validation predictions\n",
    "#print(val_predictions.tolist().head(5))\n",
    "# print the top few actual prices from validation data\n",
    "print(val_y.head())"
   ]
  },
  {
   "cell_type": "markdown",
   "id": "12d8f952",
   "metadata": {
    "papermill": {
     "duration": 0.005773,
     "end_time": "2023-02-25T11:24:02.196309",
     "exception": false,
     "start_time": "2023-02-25T11:24:02.190536",
     "status": "completed"
    },
    "tags": []
   },
   "source": [
    "What do you notice that is different from what you saw with in-sample predictions (which are printed after the top code cell in this page).\n",
    "\n",
    "Do you remember why validation predictions differ from in-sample (or training) predictions? This is an important idea from the last lesson.\n",
    "\n",
    "## Step 4: Calculate the Mean Absolute Error in Validation Data\n"
   ]
  },
  {
   "cell_type": "code",
   "execution_count": 9,
   "id": "f9be10ce",
   "metadata": {
    "execution": {
     "iopub.execute_input": "2023-02-25T11:24:02.210315Z",
     "iopub.status.busy": "2023-02-25T11:24:02.209437Z",
     "iopub.status.idle": "2023-02-25T11:24:02.222027Z",
     "shell.execute_reply": "2023-02-25T11:24:02.220646Z"
    },
    "papermill": {
     "duration": 0.022371,
     "end_time": "2023-02-25T11:24:02.224587",
     "exception": false,
     "start_time": "2023-02-25T11:24:02.202216",
     "status": "completed"
    },
    "tags": []
   },
   "outputs": [
    {
     "name": "stdout",
     "output_type": "stream",
     "text": [
      "29652.931506849316\n"
     ]
    },
    {
     "data": {
      "application/javascript": [
       "parent.postMessage({\"jupyterEvent\": \"custom.exercise_interaction\", \"data\": {\"outcomeType\": 1, \"valueTowardsCompletion\": 0.25, \"interactionType\": 1, \"questionType\": 1, \"questionId\": \"4_MAE\", \"learnToolsVersion\": \"0.3.4\", \"failureMessage\": \"\", \"exceptionClass\": \"\", \"trace\": \"\"}}, \"*\")"
      ],
      "text/plain": [
       "<IPython.core.display.Javascript object>"
      ]
     },
     "metadata": {},
     "output_type": "display_data"
    },
    {
     "data": {
      "text/markdown": [
       "<span style=\"color:#33cc33\">Correct</span>"
      ],
      "text/plain": [
       "Correct"
      ]
     },
     "metadata": {},
     "output_type": "display_data"
    }
   ],
   "source": [
    "from sklearn.metrics import mean_absolute_error\n",
    "val_mae = mean_absolute_error(val_y, val_predictions)\n",
    "\n",
    "# uncomment following line to see the validation_mae\n",
    "print(val_mae)\n",
    "\n",
    "# Check your answer\n",
    "step_4.check()"
   ]
  },
  {
   "cell_type": "code",
   "execution_count": 10,
   "id": "4e4fe8d1",
   "metadata": {
    "execution": {
     "iopub.execute_input": "2023-02-25T11:24:02.239022Z",
     "iopub.status.busy": "2023-02-25T11:24:02.238611Z",
     "iopub.status.idle": "2023-02-25T11:24:02.243467Z",
     "shell.execute_reply": "2023-02-25T11:24:02.242277Z"
    },
    "papermill": {
     "duration": 0.01501,
     "end_time": "2023-02-25T11:24:02.245985",
     "exception": false,
     "start_time": "2023-02-25T11:24:02.230975",
     "status": "completed"
    },
    "tags": []
   },
   "outputs": [],
   "source": [
    "# step_4.hint()\n",
    "# step_4.solution()"
   ]
  },
  {
   "cell_type": "markdown",
   "id": "d7f00271",
   "metadata": {
    "papermill": {
     "duration": 0.005684,
     "end_time": "2023-02-25T11:24:02.257728",
     "exception": false,
     "start_time": "2023-02-25T11:24:02.252044",
     "status": "completed"
    },
    "tags": []
   },
   "source": [
    "Is that MAE good?  There isn't a general rule for what values are good that applies across applications. But you'll see how to use (and improve) this number in the next step.\n",
    "\n",
    "# Keep Going\n",
    "\n",
    "You are ready for **[Underfitting and Overfitting](https://www.kaggle.com/dansbecker/underfitting-and-overfitting).**\n"
   ]
  },
  {
   "cell_type": "markdown",
   "id": "115c0284",
   "metadata": {
    "papermill": {
     "duration": 0.005673,
     "end_time": "2023-02-25T11:24:02.269216",
     "exception": false,
     "start_time": "2023-02-25T11:24:02.263543",
     "status": "completed"
    },
    "tags": []
   },
   "source": [
    "---\n",
    "\n",
    "\n",
    "\n",
    "\n",
    "*Have questions or comments? Visit the [Learn Discussion forum](https://www.kaggle.com/learn-forum/161285) to chat with other Learners.*"
   ]
  }
 ],
 "metadata": {
  "kernelspec": {
   "display_name": "Python 3",
   "language": "python",
   "name": "python3"
  },
  "language_info": {
   "codemirror_mode": {
    "name": "ipython",
    "version": 3
   },
   "file_extension": ".py",
   "mimetype": "text/x-python",
   "name": "python",
   "nbconvert_exporter": "python",
   "pygments_lexer": "ipython3",
   "version": "3.7.12"
  },
  "papermill": {
   "default_parameters": {},
   "duration": 13.26766,
   "end_time": "2023-02-25T11:24:03.099516",
   "environment_variables": {},
   "exception": null,
   "input_path": "__notebook__.ipynb",
   "output_path": "__notebook__.ipynb",
   "parameters": {},
   "start_time": "2023-02-25T11:23:49.831856",
   "version": "2.4.0"
  }
 },
 "nbformat": 4,
 "nbformat_minor": 5
}
