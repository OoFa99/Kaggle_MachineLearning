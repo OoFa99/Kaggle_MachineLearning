{
 "cells": [
  {
   "cell_type": "markdown",
   "id": "4195d3e0",
   "metadata": {
    "papermill": {
     "duration": 0.007063,
     "end_time": "2023-02-25T11:18:58.009864",
     "exception": false,
     "start_time": "2023-02-25T11:18:58.002801",
     "status": "completed"
    },
    "tags": []
   },
   "source": [
    "**This notebook is an exercise in the [Introduction to Machine Learning](https://www.kaggle.com/learn/intro-to-machine-learning) course.  You can reference the tutorial at [this link](https://www.kaggle.com/dansbecker/your-first-machine-learning-model).**\n",
    "\n",
    "---\n"
   ]
  },
  {
   "cell_type": "markdown",
   "id": "0773f3d2",
   "metadata": {
    "papermill": {
     "duration": 0.005064,
     "end_time": "2023-02-25T11:18:58.021100",
     "exception": false,
     "start_time": "2023-02-25T11:18:58.016036",
     "status": "completed"
    },
    "tags": []
   },
   "source": [
    "## Recap\n",
    "So far, you have loaded your data and reviewed it with the following code. Run this cell to set up your coding environment where the previous step left off."
   ]
  },
  {
   "cell_type": "code",
   "execution_count": 1,
   "id": "1b760ed7",
   "metadata": {
    "execution": {
     "iopub.execute_input": "2023-02-25T11:18:58.035082Z",
     "iopub.status.busy": "2023-02-25T11:18:58.034130Z",
     "iopub.status.idle": "2023-02-25T11:18:59.531148Z",
     "shell.execute_reply": "2023-02-25T11:18:59.529864Z"
    },
    "papermill": {
     "duration": 1.507805,
     "end_time": "2023-02-25T11:18:59.534218",
     "exception": false,
     "start_time": "2023-02-25T11:18:58.026413",
     "status": "completed"
    },
    "tags": []
   },
   "outputs": [
    {
     "name": "stdout",
     "output_type": "stream",
     "text": [
      "Setup Complete\n"
     ]
    }
   ],
   "source": [
    "# Code you have previously used to load data\n",
    "import pandas as pd\n",
    "\n",
    "# Path of the file to read\n",
    "iowa_file_path = '../input/home-data-for-ml-course/train.csv'\n",
    "\n",
    "home_data = pd.read_csv(iowa_file_path)\n",
    "\n",
    "# Set up code checking\n",
    "from learntools.core import binder\n",
    "binder.bind(globals())\n",
    "from learntools.machine_learning.ex3 import *\n",
    "\n",
    "print(\"Setup Complete\")"
   ]
  },
  {
   "cell_type": "markdown",
   "id": "a295b57f",
   "metadata": {
    "papermill": {
     "duration": 0.005298,
     "end_time": "2023-02-25T11:18:59.545131",
     "exception": false,
     "start_time": "2023-02-25T11:18:59.539833",
     "status": "completed"
    },
    "tags": []
   },
   "source": [
    "# Exercises\n",
    "\n",
    "## Step 1: Specify Prediction Target\n",
    "Select the target variable, which corresponds to the sales price. Save this to a new variable called `y`. You'll need to print a list of the columns to find the name of the column you need.\n"
   ]
  },
  {
   "cell_type": "code",
   "execution_count": 2,
   "id": "96ae7a97",
   "metadata": {
    "execution": {
     "iopub.execute_input": "2023-02-25T11:18:59.558559Z",
     "iopub.status.busy": "2023-02-25T11:18:59.557534Z",
     "iopub.status.idle": "2023-02-25T11:18:59.567105Z",
     "shell.execute_reply": "2023-02-25T11:18:59.566207Z"
    },
    "papermill": {
     "duration": 0.018608,
     "end_time": "2023-02-25T11:18:59.569275",
     "exception": false,
     "start_time": "2023-02-25T11:18:59.550667",
     "status": "completed"
    },
    "tags": []
   },
   "outputs": [
    {
     "data": {
      "text/plain": [
       "Index(['Id', 'MSSubClass', 'MSZoning', 'LotFrontage', 'LotArea', 'Street',\n",
       "       'Alley', 'LotShape', 'LandContour', 'Utilities', 'LotConfig',\n",
       "       'LandSlope', 'Neighborhood', 'Condition1', 'Condition2', 'BldgType',\n",
       "       'HouseStyle', 'OverallQual', 'OverallCond', 'YearBuilt', 'YearRemodAdd',\n",
       "       'RoofStyle', 'RoofMatl', 'Exterior1st', 'Exterior2nd', 'MasVnrType',\n",
       "       'MasVnrArea', 'ExterQual', 'ExterCond', 'Foundation', 'BsmtQual',\n",
       "       'BsmtCond', 'BsmtExposure', 'BsmtFinType1', 'BsmtFinSF1',\n",
       "       'BsmtFinType2', 'BsmtFinSF2', 'BsmtUnfSF', 'TotalBsmtSF', 'Heating',\n",
       "       'HeatingQC', 'CentralAir', 'Electrical', '1stFlrSF', '2ndFlrSF',\n",
       "       'LowQualFinSF', 'GrLivArea', 'BsmtFullBath', 'BsmtHalfBath', 'FullBath',\n",
       "       'HalfBath', 'BedroomAbvGr', 'KitchenAbvGr', 'KitchenQual',\n",
       "       'TotRmsAbvGrd', 'Functional', 'Fireplaces', 'FireplaceQu', 'GarageType',\n",
       "       'GarageYrBlt', 'GarageFinish', 'GarageCars', 'GarageArea', 'GarageQual',\n",
       "       'GarageCond', 'PavedDrive', 'WoodDeckSF', 'OpenPorchSF',\n",
       "       'EnclosedPorch', '3SsnPorch', 'ScreenPorch', 'PoolArea', 'PoolQC',\n",
       "       'Fence', 'MiscFeature', 'MiscVal', 'MoSold', 'YrSold', 'SaleType',\n",
       "       'SaleCondition', 'SalePrice'],\n",
       "      dtype='object')"
      ]
     },
     "execution_count": 2,
     "metadata": {},
     "output_type": "execute_result"
    }
   ],
   "source": [
    "# print the list of columns in the dataset to find the name of the prediction target\n",
    "home_data.columns"
   ]
  },
  {
   "cell_type": "code",
   "execution_count": 3,
   "id": "01b3aa70",
   "metadata": {
    "execution": {
     "iopub.execute_input": "2023-02-25T11:18:59.583746Z",
     "iopub.status.busy": "2023-02-25T11:18:59.582607Z",
     "iopub.status.idle": "2023-02-25T11:18:59.596619Z",
     "shell.execute_reply": "2023-02-25T11:18:59.595614Z"
    },
    "papermill": {
     "duration": 0.023833,
     "end_time": "2023-02-25T11:18:59.598953",
     "exception": false,
     "start_time": "2023-02-25T11:18:59.575120",
     "status": "completed"
    },
    "tags": []
   },
   "outputs": [
    {
     "data": {
      "application/javascript": [
       "parent.postMessage({\"jupyterEvent\": \"custom.exercise_interaction\", \"data\": {\"outcomeType\": 1, \"valueTowardsCompletion\": 0.25, \"interactionType\": 1, \"questionType\": 2, \"questionId\": \"1_SetTarget\", \"learnToolsVersion\": \"0.3.4\", \"failureMessage\": \"\", \"exceptionClass\": \"\", \"trace\": \"\"}}, \"*\")"
      ],
      "text/plain": [
       "<IPython.core.display.Javascript object>"
      ]
     },
     "metadata": {},
     "output_type": "display_data"
    },
    {
     "data": {
      "text/markdown": [
       "<span style=\"color:#33cc33\">Correct</span>"
      ],
      "text/plain": [
       "Correct"
      ]
     },
     "metadata": {},
     "output_type": "display_data"
    }
   ],
   "source": [
    "y = home_data.SalePrice\n",
    "\n",
    "# Check your answer\n",
    "step_1.check()"
   ]
  },
  {
   "cell_type": "code",
   "execution_count": 4,
   "id": "43c67a55",
   "metadata": {
    "execution": {
     "iopub.execute_input": "2023-02-25T11:18:59.613195Z",
     "iopub.status.busy": "2023-02-25T11:18:59.612364Z",
     "iopub.status.idle": "2023-02-25T11:18:59.616855Z",
     "shell.execute_reply": "2023-02-25T11:18:59.615839Z"
    },
    "papermill": {
     "duration": 0.014396,
     "end_time": "2023-02-25T11:18:59.619130",
     "exception": false,
     "start_time": "2023-02-25T11:18:59.604734",
     "status": "completed"
    },
    "tags": []
   },
   "outputs": [],
   "source": [
    "# The lines below will show you a hint or the solution.\n",
    "# step_1.hint() \n",
    "# step_1.solution()"
   ]
  },
  {
   "cell_type": "markdown",
   "id": "8c15cfe7",
   "metadata": {
    "papermill": {
     "duration": 0.005464,
     "end_time": "2023-02-25T11:18:59.630454",
     "exception": false,
     "start_time": "2023-02-25T11:18:59.624990",
     "status": "completed"
    },
    "tags": []
   },
   "source": [
    "## Step 2: Create X\n",
    "Now you will create a DataFrame called `X` holding the predictive features.\n",
    "\n",
    "Since you want only some columns from the original data, you'll first create a list with the names of the columns you want in `X`.\n",
    "\n",
    "You'll use just the following columns in the list (you can copy and paste the whole list to save some typing, though you'll still need to add quotes):\n",
    "    * LotArea\n",
    "    * YearBuilt\n",
    "    * 1stFlrSF\n",
    "    * 2ndFlrSF\n",
    "    * FullBath\n",
    "    * BedroomAbvGr\n",
    "    * TotRmsAbvGrd\n",
    "\n",
    "After you've created that list of features, use it to create the DataFrame that you'll use to fit the model."
   ]
  },
  {
   "cell_type": "code",
   "execution_count": 5,
   "id": "7e844a82",
   "metadata": {
    "execution": {
     "iopub.execute_input": "2023-02-25T11:18:59.644520Z",
     "iopub.status.busy": "2023-02-25T11:18:59.643640Z",
     "iopub.status.idle": "2023-02-25T11:18:59.657198Z",
     "shell.execute_reply": "2023-02-25T11:18:59.656306Z"
    },
    "papermill": {
     "duration": 0.023208,
     "end_time": "2023-02-25T11:18:59.659359",
     "exception": false,
     "start_time": "2023-02-25T11:18:59.636151",
     "status": "completed"
    },
    "tags": []
   },
   "outputs": [
    {
     "data": {
      "application/javascript": [
       "parent.postMessage({\"jupyterEvent\": \"custom.exercise_interaction\", \"data\": {\"outcomeType\": 1, \"valueTowardsCompletion\": 0.25, \"interactionType\": 1, \"questionType\": 2, \"questionId\": \"2_SelectPredictionData\", \"learnToolsVersion\": \"0.3.4\", \"failureMessage\": \"\", \"exceptionClass\": \"\", \"trace\": \"\"}}, \"*\")"
      ],
      "text/plain": [
       "<IPython.core.display.Javascript object>"
      ]
     },
     "metadata": {},
     "output_type": "display_data"
    },
    {
     "data": {
      "text/markdown": [
       "<span style=\"color:#33cc33\">Correct</span>"
      ],
      "text/plain": [
       "Correct"
      ]
     },
     "metadata": {},
     "output_type": "display_data"
    }
   ],
   "source": [
    "# Create the list of features below\n",
    "feature_names = [\"LotArea\", \"YearBuilt\", \"1stFlrSF\", \"2ndFlrSF\", \"FullBath\", \"BedroomAbvGr\", \"TotRmsAbvGrd\"]\n",
    "\n",
    "# Select data corresponding to features in feature_names\n",
    "X = home_data[feature_names]\n",
    "\n",
    "# Check your answer\n",
    "step_2.check()"
   ]
  },
  {
   "cell_type": "code",
   "execution_count": 6,
   "id": "50ec56ed",
   "metadata": {
    "execution": {
     "iopub.execute_input": "2023-02-25T11:18:59.674783Z",
     "iopub.status.busy": "2023-02-25T11:18:59.673887Z",
     "iopub.status.idle": "2023-02-25T11:18:59.678609Z",
     "shell.execute_reply": "2023-02-25T11:18:59.677607Z"
    },
    "papermill": {
     "duration": 0.015888,
     "end_time": "2023-02-25T11:18:59.681301",
     "exception": false,
     "start_time": "2023-02-25T11:18:59.665413",
     "status": "completed"
    },
    "tags": []
   },
   "outputs": [],
   "source": [
    "# step_2.hint()\n",
    "# step_2.solution()"
   ]
  },
  {
   "cell_type": "markdown",
   "id": "0840530e",
   "metadata": {
    "papermill": {
     "duration": 0.006168,
     "end_time": "2023-02-25T11:18:59.694032",
     "exception": false,
     "start_time": "2023-02-25T11:18:59.687864",
     "status": "completed"
    },
    "tags": []
   },
   "source": [
    "## Review Data\n",
    "Before building a model, take a quick look at **X** to verify it looks sensible"
   ]
  },
  {
   "cell_type": "code",
   "execution_count": 7,
   "id": "48814ff2",
   "metadata": {
    "execution": {
     "iopub.execute_input": "2023-02-25T11:18:59.709611Z",
     "iopub.status.busy": "2023-02-25T11:18:59.708803Z",
     "iopub.status.idle": "2023-02-25T11:18:59.755695Z",
     "shell.execute_reply": "2023-02-25T11:18:59.754228Z"
    },
    "papermill": {
     "duration": 0.057156,
     "end_time": "2023-02-25T11:18:59.758439",
     "exception": false,
     "start_time": "2023-02-25T11:18:59.701283",
     "status": "completed"
    },
    "tags": []
   },
   "outputs": [
    {
     "data": {
      "text/html": [
       "<div>\n",
       "<style scoped>\n",
       "    .dataframe tbody tr th:only-of-type {\n",
       "        vertical-align: middle;\n",
       "    }\n",
       "\n",
       "    .dataframe tbody tr th {\n",
       "        vertical-align: top;\n",
       "    }\n",
       "\n",
       "    .dataframe thead th {\n",
       "        text-align: right;\n",
       "    }\n",
       "</style>\n",
       "<table border=\"1\" class=\"dataframe\">\n",
       "  <thead>\n",
       "    <tr style=\"text-align: right;\">\n",
       "      <th></th>\n",
       "      <th>LotArea</th>\n",
       "      <th>YearBuilt</th>\n",
       "      <th>1stFlrSF</th>\n",
       "      <th>2ndFlrSF</th>\n",
       "      <th>FullBath</th>\n",
       "      <th>BedroomAbvGr</th>\n",
       "      <th>TotRmsAbvGrd</th>\n",
       "    </tr>\n",
       "  </thead>\n",
       "  <tbody>\n",
       "    <tr>\n",
       "      <th>0</th>\n",
       "      <td>8450</td>\n",
       "      <td>2003</td>\n",
       "      <td>856</td>\n",
       "      <td>854</td>\n",
       "      <td>2</td>\n",
       "      <td>3</td>\n",
       "      <td>8</td>\n",
       "    </tr>\n",
       "    <tr>\n",
       "      <th>1</th>\n",
       "      <td>9600</td>\n",
       "      <td>1976</td>\n",
       "      <td>1262</td>\n",
       "      <td>0</td>\n",
       "      <td>2</td>\n",
       "      <td>3</td>\n",
       "      <td>6</td>\n",
       "    </tr>\n",
       "    <tr>\n",
       "      <th>2</th>\n",
       "      <td>11250</td>\n",
       "      <td>2001</td>\n",
       "      <td>920</td>\n",
       "      <td>866</td>\n",
       "      <td>2</td>\n",
       "      <td>3</td>\n",
       "      <td>6</td>\n",
       "    </tr>\n",
       "    <tr>\n",
       "      <th>3</th>\n",
       "      <td>9550</td>\n",
       "      <td>1915</td>\n",
       "      <td>961</td>\n",
       "      <td>756</td>\n",
       "      <td>1</td>\n",
       "      <td>3</td>\n",
       "      <td>7</td>\n",
       "    </tr>\n",
       "    <tr>\n",
       "      <th>4</th>\n",
       "      <td>14260</td>\n",
       "      <td>2000</td>\n",
       "      <td>1145</td>\n",
       "      <td>1053</td>\n",
       "      <td>2</td>\n",
       "      <td>4</td>\n",
       "      <td>9</td>\n",
       "    </tr>\n",
       "  </tbody>\n",
       "</table>\n",
       "</div>"
      ],
      "text/plain": [
       "   LotArea  YearBuilt  1stFlrSF  2ndFlrSF  FullBath  BedroomAbvGr  \\\n",
       "0     8450       2003       856       854         2             3   \n",
       "1     9600       1976      1262         0         2             3   \n",
       "2    11250       2001       920       866         2             3   \n",
       "3     9550       1915       961       756         1             3   \n",
       "4    14260       2000      1145      1053         2             4   \n",
       "\n",
       "   TotRmsAbvGrd  \n",
       "0             8  \n",
       "1             6  \n",
       "2             6  \n",
       "3             7  \n",
       "4             9  "
      ]
     },
     "execution_count": 7,
     "metadata": {},
     "output_type": "execute_result"
    }
   ],
   "source": [
    "# Review data\n",
    "# print description or statistics from X\n",
    "#print(_)\n",
    "X.describe()\n",
    "\n",
    "X.head()\n",
    "# print the top few lines\n",
    "#print(_)"
   ]
  },
  {
   "cell_type": "markdown",
   "id": "b45b5bcc",
   "metadata": {
    "papermill": {
     "duration": 0.005831,
     "end_time": "2023-02-25T11:18:59.770498",
     "exception": false,
     "start_time": "2023-02-25T11:18:59.764667",
     "status": "completed"
    },
    "tags": []
   },
   "source": [
    "## Step 3: Specify and Fit Model\n",
    "Create a `DecisionTreeRegressor` and save it iowa_model. Ensure you've done the relevant import from sklearn to run this command.\n",
    "\n",
    "Then fit the model you just created using the data in `X` and `y` that you saved above."
   ]
  },
  {
   "cell_type": "code",
   "execution_count": 8,
   "id": "0a800f3f",
   "metadata": {
    "execution": {
     "iopub.execute_input": "2023-02-25T11:18:59.784931Z",
     "iopub.status.busy": "2023-02-25T11:18:59.784521Z",
     "iopub.status.idle": "2023-02-25T11:18:59.804558Z",
     "shell.execute_reply": "2023-02-25T11:18:59.803149Z"
    },
    "papermill": {
     "duration": 0.03056,
     "end_time": "2023-02-25T11:18:59.807192",
     "exception": false,
     "start_time": "2023-02-25T11:18:59.776632",
     "status": "completed"
    },
    "tags": []
   },
   "outputs": [
    {
     "data": {
      "application/javascript": [
       "parent.postMessage({\"jupyterEvent\": \"custom.exercise_interaction\", \"data\": {\"outcomeType\": 1, \"valueTowardsCompletion\": 0.25, \"interactionType\": 1, \"questionType\": 2, \"questionId\": \"3_CreateModel\", \"learnToolsVersion\": \"0.3.4\", \"failureMessage\": \"\", \"exceptionClass\": \"\", \"trace\": \"\"}}, \"*\")"
      ],
      "text/plain": [
       "<IPython.core.display.Javascript object>"
      ]
     },
     "metadata": {},
     "output_type": "display_data"
    },
    {
     "data": {
      "text/markdown": [
       "<span style=\"color:#33cc33\">Correct</span>"
      ],
      "text/plain": [
       "Correct"
      ]
     },
     "metadata": {},
     "output_type": "display_data"
    }
   ],
   "source": [
    "# from _ import _\n",
    "#specify the model. \n",
    "#For model reproducibility, set a numeric value for random_state when specifying the model\n",
    "from sklearn.tree import DecisionTreeRegressor\n",
    "iowa_model = DecisionTreeRegressor(random_state = 1)\n",
    "\n",
    "# Fit the model\n",
    "iowa_model.fit(X, y)\n",
    "\n",
    "# Check your answer\n",
    "step_3.check()"
   ]
  },
  {
   "cell_type": "code",
   "execution_count": 9,
   "id": "7609bae3",
   "metadata": {
    "execution": {
     "iopub.execute_input": "2023-02-25T11:18:59.822196Z",
     "iopub.status.busy": "2023-02-25T11:18:59.821749Z",
     "iopub.status.idle": "2023-02-25T11:18:59.826528Z",
     "shell.execute_reply": "2023-02-25T11:18:59.825321Z"
    },
    "papermill": {
     "duration": 0.015296,
     "end_time": "2023-02-25T11:18:59.828934",
     "exception": false,
     "start_time": "2023-02-25T11:18:59.813638",
     "status": "completed"
    },
    "tags": []
   },
   "outputs": [],
   "source": [
    "# step_3.hint()\n",
    "# step_3.solution()"
   ]
  },
  {
   "cell_type": "markdown",
   "id": "b0d6f632",
   "metadata": {
    "papermill": {
     "duration": 0.006105,
     "end_time": "2023-02-25T11:18:59.841557",
     "exception": false,
     "start_time": "2023-02-25T11:18:59.835452",
     "status": "completed"
    },
    "tags": []
   },
   "source": [
    "## Step 4: Make Predictions\n",
    "Make predictions with the model's `predict` command using `X` as the data. Save the results to a variable called `predictions`."
   ]
  },
  {
   "cell_type": "code",
   "execution_count": 10,
   "id": "473c3428",
   "metadata": {
    "execution": {
     "iopub.execute_input": "2023-02-25T11:18:59.856051Z",
     "iopub.status.busy": "2023-02-25T11:18:59.855633Z",
     "iopub.status.idle": "2023-02-25T11:18:59.871844Z",
     "shell.execute_reply": "2023-02-25T11:18:59.870595Z"
    },
    "papermill": {
     "duration": 0.026374,
     "end_time": "2023-02-25T11:18:59.874287",
     "exception": false,
     "start_time": "2023-02-25T11:18:59.847913",
     "status": "completed"
    },
    "tags": []
   },
   "outputs": [
    {
     "name": "stdout",
     "output_type": "stream",
     "text": [
      "[208500. 181500. 223500. ... 266500. 142125. 147500.]\n"
     ]
    },
    {
     "data": {
      "application/javascript": [
       "parent.postMessage({\"jupyterEvent\": \"custom.exercise_interaction\", \"data\": {\"outcomeType\": 1, \"valueTowardsCompletion\": 0.25, \"interactionType\": 1, \"questionType\": 2, \"questionId\": \"4_MakePredictions\", \"learnToolsVersion\": \"0.3.4\", \"failureMessage\": \"\", \"exceptionClass\": \"\", \"trace\": \"\"}}, \"*\")"
      ],
      "text/plain": [
       "<IPython.core.display.Javascript object>"
      ]
     },
     "metadata": {},
     "output_type": "display_data"
    },
    {
     "data": {
      "text/markdown": [
       "<span style=\"color:#33cc33\">Correct</span>"
      ],
      "text/plain": [
       "Correct"
      ]
     },
     "metadata": {},
     "output_type": "display_data"
    }
   ],
   "source": [
    "predictions = iowa_model.predict(X)\n",
    "print(predictions)\n",
    "\n",
    "# Check your answer\n",
    "step_4.check()"
   ]
  },
  {
   "cell_type": "code",
   "execution_count": 11,
   "id": "4a14e64c",
   "metadata": {
    "execution": {
     "iopub.execute_input": "2023-02-25T11:18:59.890328Z",
     "iopub.status.busy": "2023-02-25T11:18:59.889906Z",
     "iopub.status.idle": "2023-02-25T11:18:59.894476Z",
     "shell.execute_reply": "2023-02-25T11:18:59.893157Z"
    },
    "papermill": {
     "duration": 0.015689,
     "end_time": "2023-02-25T11:18:59.896979",
     "exception": false,
     "start_time": "2023-02-25T11:18:59.881290",
     "status": "completed"
    },
    "tags": []
   },
   "outputs": [],
   "source": [
    "# step_4.hint()\n",
    "# step_4.solution()"
   ]
  },
  {
   "cell_type": "markdown",
   "id": "60e01b9f",
   "metadata": {
    "papermill": {
     "duration": 0.006762,
     "end_time": "2023-02-25T11:18:59.910799",
     "exception": false,
     "start_time": "2023-02-25T11:18:59.904037",
     "status": "completed"
    },
    "tags": []
   },
   "source": [
    "## Think About Your Results\n",
    "\n",
    "Use the `head` method to compare the top few predictions to the actual home values (in `y`) for those same homes. Anything surprising?\n"
   ]
  },
  {
   "cell_type": "code",
   "execution_count": 12,
   "id": "b9ed8e9b",
   "metadata": {
    "execution": {
     "iopub.execute_input": "2023-02-25T11:18:59.926968Z",
     "iopub.status.busy": "2023-02-25T11:18:59.926160Z",
     "iopub.status.idle": "2023-02-25T11:18:59.934467Z",
     "shell.execute_reply": "2023-02-25T11:18:59.933403Z"
    },
    "papermill": {
     "duration": 0.018519,
     "end_time": "2023-02-25T11:18:59.936674",
     "exception": false,
     "start_time": "2023-02-25T11:18:59.918155",
     "status": "completed"
    },
    "tags": []
   },
   "outputs": [
    {
     "data": {
      "text/plain": [
       "0    208500\n",
       "1    181500\n",
       "2    223500\n",
       "3    140000\n",
       "4    250000\n",
       "Name: SalePrice, dtype: int64"
      ]
     },
     "execution_count": 12,
     "metadata": {},
     "output_type": "execute_result"
    }
   ],
   "source": [
    "# You can write code in this cell\n",
    "y.head()"
   ]
  },
  {
   "cell_type": "markdown",
   "id": "44e3d32a",
   "metadata": {
    "papermill": {
     "duration": 0.006763,
     "end_time": "2023-02-25T11:18:59.950271",
     "exception": false,
     "start_time": "2023-02-25T11:18:59.943508",
     "status": "completed"
    },
    "tags": []
   },
   "source": [
    "It's natural to ask how accurate the model's predictions will be and how you can improve that. That will be you're next step.\n",
    "\n",
    "# Keep Going\n",
    "\n",
    "You are ready for **[Model Validation](https://www.kaggle.com/dansbecker/model-validation).**\n"
   ]
  },
  {
   "cell_type": "markdown",
   "id": "39baebcd",
   "metadata": {
    "papermill": {
     "duration": 0.006523,
     "end_time": "2023-02-25T11:18:59.963730",
     "exception": false,
     "start_time": "2023-02-25T11:18:59.957207",
     "status": "completed"
    },
    "tags": []
   },
   "source": [
    "---\n",
    "\n",
    "\n",
    "\n",
    "\n",
    "*Have questions or comments? Visit the [Learn Discussion forum](https://www.kaggle.com/learn-forum/161285) to chat with other Learners.*"
   ]
  }
 ],
 "metadata": {
  "kernelspec": {
   "display_name": "Python 3",
   "language": "python",
   "name": "python3"
  },
  "language_info": {
   "codemirror_mode": {
    "name": "ipython",
    "version": 3
   },
   "file_extension": ".py",
   "mimetype": "text/x-python",
   "name": "python",
   "nbconvert_exporter": "python",
   "pygments_lexer": "ipython3",
   "version": "3.7.12"
  },
  "papermill": {
   "default_parameters": {},
   "duration": 13.653715,
   "end_time": "2023-02-25T11:19:00.793308",
   "environment_variables": {},
   "exception": null,
   "input_path": "__notebook__.ipynb",
   "output_path": "__notebook__.ipynb",
   "parameters": {},
   "start_time": "2023-02-25T11:18:47.139593",
   "version": "2.4.0"
  }
 },
 "nbformat": 4,
 "nbformat_minor": 5
}
